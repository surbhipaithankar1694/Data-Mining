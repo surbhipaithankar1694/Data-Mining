{
 "cells": [
  {
   "cell_type": "markdown",
   "metadata": {},
   "source": [
    "# DECISION TREE IMPLEMENTATION"
   ]
  },
  {
   "cell_type": "markdown",
   "metadata": {},
   "source": [
    "Importing libraries for data reading & manipulation."
   ]
  },
  {
   "cell_type": "code",
   "execution_count": 27,
   "metadata": {
    "collapsed": true
   },
   "outputs": [],
   "source": [
    "import pandas as pd\n",
    "import numpy as np\n",
    "import random\n",
    "import math\n",
    "import sys"
   ]
  },
  {
   "cell_type": "markdown",
   "metadata": {},
   "source": [
    "Reading input filename and attribute splitting criteria from command line argument."
   ]
  },
  {
   "cell_type": "code",
   "execution_count": 28,
   "metadata": {},
   "outputs": [],
   "source": [
    "try:\n",
    "    file =  str(sys.argv[1])\n",
    "    method = str(sys.argv[2])\n",
    "    \n",
    "except:\n",
    "    print (\"\\nPlease enter the correct command line arguments:\")\n",
    "    print (\"./decision_tree.py <Train_file name> <method(Gini/Igain/both)> \")\n",
    "    sys.exit()\n",
    "file = 'data_banknote_authentication.csv'\n",
    "method = 'both'"
   ]
  },
  {
   "cell_type": "markdown",
   "metadata": {},
   "source": [
    "Setting default depth to 10 and extracting the name of label column."
   ]
  },
  {
   "cell_type": "code",
   "execution_count": 29,
   "metadata": {},
   "outputs": [],
   "source": [
    "data = pd.read_csv(file)\n",
    "depth = 10\n",
    "label = data.columns[-1]"
   ]
  },
  {
   "cell_type": "markdown",
   "metadata": {},
   "source": [
    "Code to randomly split the training data into train & test data."
   ]
  },
  {
   "cell_type": "code",
   "execution_count": 30,
   "metadata": {
    "collapsed": true
   },
   "outputs": [],
   "source": [
    "def cross_validation(train_size,data):\n",
    "    train_data = data.sample(frac=train_size)\n",
    "    test_data = data.drop(train_data.index)\n",
    "    return train_data.reset_index(drop=True),test_data.reset_index(drop=True)\n",
    "\n",
    "train_data,test_data = cross_validation(0.7,data)\n",
    "classes = data[label].unique()\n"
   ]
  },
  {
   "cell_type": "markdown",
   "metadata": {},
   "source": [
    "Function code to split the data based on particular column and column value"
   ]
  },
  {
   "cell_type": "code",
   "execution_count": 31,
   "metadata": {
    "collapsed": true
   },
   "outputs": [],
   "source": [
    "def split_data(column,value,data):\n",
    "    left_child = data[data[column]<=value]\n",
    "    right_child = data[data[column]>value]\n",
    "    return left_child,right_child"
   ]
  },
  {
   "cell_type": "markdown",
   "metadata": {},
   "source": [
    "Function code to compute the best splitting value for a column using Gini"
   ]
  },
  {
   "cell_type": "code",
   "execution_count": 33,
   "metadata": {
    "collapsed": true
   },
   "outputs": [],
   "source": [
    "def best_split_value(column,data):\n",
    "    current_tree = data\n",
    "    values = current_tree[column]\n",
    "    values = sorted(values.unique())\n",
    "    check_values = []\n",
    "    gini_arr = []\n",
    "    for i in range(len(values)):\n",
    "        if i+1<len(values):\n",
    "            mean = values[i]+values[i+1] \n",
    "            check_values.append(mean/2)\n",
    "        if len(values) == 1:\n",
    "            check_values.append(values[0])\n",
    "    for every_value in check_values:\n",
    "        left_child,right_child = split_data(column,every_value,train_data)\n",
    "        gini_index = calc_gini(classes,left_child,right_child,data,label)\n",
    "        gini_arr.append((gini_index,every_value))\n",
    "    best_gini = (min(gini_arr))\n",
    "    return best_gini\n"
   ]
  },
  {
   "cell_type": "markdown",
   "metadata": {},
   "source": [
    "Function code to find the majority class label for records in leaf nodes."
   ]
  },
  {
   "cell_type": "code",
   "execution_count": 35,
   "metadata": {
    "collapsed": true
   },
   "outputs": [],
   "source": [
    "def leaf_nodes(current_node):\n",
    "    count_groupby_class = (current_node.groupby(label).size())\n",
    "    return count_groupby_class.idxmax(),count_groupby_class.max()\n"
   ]
  },
  {
   "cell_type": "markdown",
   "metadata": {},
   "source": [
    "Function code to classify the test data using the decision tree constructed."
   ]
  },
  {
   "cell_type": "code",
   "execution_count": 36,
   "metadata": {
    "collapsed": true
   },
   "outputs": [],
   "source": [
    "def classify(root,testline):\n",
    "    if testline[root['best_attr']]<= root['best_attr_val']:\n",
    "        if isinstance(root['left_tree'],dict):\n",
    "            return classify(root['left_tree'],testline)\n",
    "        else:\n",
    "            return root['left_tree']\n",
    "    else:\n",
    "        if isinstance(root['right_tree'],dict):\n",
    "            return classify(root['right_tree'],testline)\n",
    "        else:\n",
    "            return root['right_tree']\n"
   ]
  },
  {
   "cell_type": "markdown",
   "metadata": {},
   "source": [
    "Function code to calculate the gini value for any particular split."
   ]
  },
  {
   "cell_type": "code",
   "execution_count": 32,
   "metadata": {
    "collapsed": true
   },
   "outputs": [],
   "source": [
    "def calc_gini(classes,left_node,right_node,current_node,label):\n",
    "    \n",
    "    total_nodes = len(current_node)\n",
    "    no_left_nodes = len(left_node)\n",
    "    no_right_nodes = len(right_node)\n",
    "    \n",
    "    left_gini =0.0\n",
    "    right_gini = 0.0\n",
    "    \n",
    "    total_prob = 0.0\n",
    "    \n",
    "    for each_class in classes:\n",
    "        if no_left_nodes==0:\n",
    "            continue\n",
    "        prob = len(left_node[(left_node[label]==each_class)])/float(no_left_nodes)\n",
    "        total_prob += prob**2\n",
    "    left_gini = 1-total_prob\n",
    "    \n",
    "    total_prob = 0.0\n",
    "    for each_class in classes:\n",
    "        if no_right_nodes==0:\n",
    "            continue\n",
    "        prob = len(right_node[(right_node[label]==each_class)])/float(no_right_nodes)\n",
    "        total_prob += prob**2\n",
    "    right_gini = 1-total_prob\n",
    "    \n",
    "    weighted_gini = ((float(no_left_nodes)/total_nodes)*float(left_gini)) + ((float(no_right_nodes)/total_nodes)*float(right_gini))\n",
    "    return round(weighted_gini,6)\n",
    "\n"
   ]
  },
  {
   "cell_type": "markdown",
   "metadata": {},
   "source": [
    "Function code to calculate the entropy for any particular split."
   ]
  },
  {
   "cell_type": "code",
   "execution_count": 37,
   "metadata": {
    "collapsed": true
   },
   "outputs": [],
   "source": [
    "def calc_entropy(left_nodes,right_nodes,current_node,label):\n",
    "    N = len(current_node)\n",
    "    n1 = len(left_nodes)\n",
    "    n2 = len(right_nodes)\n",
    "    \n",
    "    if n1!=0:\n",
    "        entropy1 = 0.0\n",
    "        for each_class in classes:\n",
    "            n1_class = len(left_nodes[left_nodes[label] == each_class])\n",
    "            #print(n1_class)\n",
    "            if(n1_class) == 0:\n",
    "                value = 0.0\n",
    "                continue\n",
    "            value = -float(n1_class)/n1 * math.log(float(n1_class)/n1,2.0)\n",
    "            #print(value)\n",
    "            entropy1+=value\n",
    "    \n",
    "    entropy2 = 0.0\n",
    "    if n2!=0:\n",
    "        for each_class in classes:\n",
    "            n2_class = len(right_nodes[right_nodes[label] == each_class])\n",
    "            if(n2_class) == 0:\n",
    "                value = 0.0\n",
    "                continue\n",
    "            value = -float(n2_class)/n2 * math.log(float(n2_class)/n2,2.0)\n",
    "            entropy2+=value\n",
    "    entropy = float(n1)/N*(entropy1) + float(n2)/N*(entropy2)\n",
    "    return entropy\n"
   ]
  },
  {
   "cell_type": "markdown",
   "metadata": {},
   "source": [
    "Function code to compute the best splitting value for a column using information gain"
   ]
  },
  {
   "cell_type": "code",
   "execution_count": 38,
   "metadata": {
    "collapsed": true
   },
   "outputs": [],
   "source": [
    "def calc_infogain(curr_data,column,parent_entropy):\n",
    "    current_tree = curr_data\n",
    "    values = current_tree[column]\n",
    "    values = sorted(values.unique())\n",
    "    check_values = []\n",
    "    infogain = []\n",
    "    for i in range(len(values)):\n",
    "        if i+1<len(values):\n",
    "            mean = values[i]+values[i+1] \n",
    "            check_values.append(mean/2)\n",
    "        if len(values) == 1:\n",
    "            check_values.append(values[0])\n",
    "            \n",
    "    for every_value in check_values:\n",
    "        left_child,right_child = split_data(column,every_value,train_data)\n",
    "        entropy = calc_entropy(left_child,right_child,data,label)\n",
    "        infogain.append(((parent_entropy-entropy),every_value,entropy))\n",
    "        \n",
    "    best_infogain = max(infogain)\n",
    "    return best_infogain"
   ]
  },
  {
   "cell_type": "markdown",
   "metadata": {},
   "source": [
    "Function code to find the best attribute for split using gini."
   ]
  },
  {
   "cell_type": "code",
   "execution_count": 34,
   "metadata": {
    "collapsed": true
   },
   "outputs": [],
   "source": [
    "def best_attribute(data,columns):\n",
    "\n",
    "    node ={}\n",
    "    node['best_attr'] = \"\"\n",
    "    node['best_attr_val'] = 999\n",
    "    node['groups'] = None\n",
    "    gini = 999\n",
    "    if len(columns)==0:\n",
    "        return \n",
    "    for each_column in columns:\n",
    "        current_gini = best_split_value(each_column,data)\n",
    "        if current_gini[0]<=gini:\n",
    "            gini = current_gini[0]\n",
    "            best_attr = each_column\n",
    "            best_attr_val = current_gini[1]    \n",
    "    children = split_data(column=best_attr,value=best_attr_val,data = data)\n",
    "    node['best_attr'] = best_attr\n",
    "    node['best_attr_val'] = best_attr_val\n",
    "    node['children'] = children   \n",
    "    return (node)\n"
   ]
  },
  {
   "cell_type": "markdown",
   "metadata": {},
   "source": [
    "Function code to find the best attribute for split using information gain."
   ]
  },
  {
   "cell_type": "code",
   "execution_count": 39,
   "metadata": {
    "collapsed": true
   },
   "outputs": [],
   "source": [
    "def best_attribute_entropy(columns,data,parent_infogain):\n",
    " \n",
    "    node ={}\n",
    "    node['best_attr'] = \"\"\n",
    "    node['best_attr_val'] = 99999\n",
    "    node['children'] = None\n",
    "    infogain = -999999\n",
    "    if len(columns)==0:\n",
    "        return \n",
    "    for each_column in columns:\n",
    "        current_igain = calc_infogain(data,each_column,parent_infogain)\n",
    "        if current_igain[0]>infogain:\n",
    "            infogain = current_igain[0]\n",
    "            best_attr = each_column\n",
    "            best_attr_val = current_igain[1]\n",
    "            best_entropy = current_igain[2]\n",
    "    children = split_data(column=best_attr,value=best_attr_val,data = data)\n",
    "    node['best_attr'] = best_attr\n",
    "    node['best_attr_val'] = best_attr_val\n",
    "    node['children'] = children   \n",
    "    return (node,best_entropy)\n"
   ]
  },
  {
   "cell_type": "markdown",
   "metadata": {},
   "source": [
    "Function code to expand the tree recursively untill the stopping criteria isn't satisfied using gini."
   ]
  },
  {
   "cell_type": "code",
   "execution_count": 40,
   "metadata": {
    "collapsed": true
   },
   "outputs": [],
   "source": [
    "def expand_tree(node,max_depth,current_depth,columns):\n",
    "\n",
    "    left_tree, right_tree = node['children']\n",
    "    best_attr = node['best_attr']\n",
    "    del(node['children'])\n",
    "    frames = [left_tree,right_tree]\n",
    "    result = pd.concat(frames)\n",
    "    if(result[label].nunique())==1:\n",
    "        node['left_tree'] = node['right_tree'] = list(result[label].unique())[0]\n",
    "        return\n",
    "    \n",
    "    if left_tree.empty or right_tree.empty:     \n",
    "        node['left_tree'] = node['right_tree'] = leaf_nodes(result)[0]\n",
    "        return \n",
    "\n",
    "    if len(columns) ==1 or current_depth>=max_depth:\n",
    "        node['left_tree'] = leaf_nodes(left_tree)[0]\n",
    "        node['right_tree'] = leaf_nodes(right_tree)[0]\n",
    "        return\n",
    "    \n",
    "    columns = columns.drop(best_attr)\n",
    "    node['left_tree'] = best_attribute(left_tree,columns) \n",
    "    expand_tree(node['left_tree'],max_depth,current_depth+1,columns)\n",
    "\n",
    "    node['right_tree'] = best_attribute(right_tree,columns)\n",
    "    expand_tree(node['right_tree'],max_depth,current_depth+1,columns)\n"
   ]
  },
  {
   "cell_type": "markdown",
   "metadata": {},
   "source": [
    "Function code to expand the tree recursively untill the stopping criteria isn't satisfied using gini."
   ]
  },
  {
   "cell_type": "code",
   "execution_count": 41,
   "metadata": {
    "collapsed": true
   },
   "outputs": [],
   "source": [
    "def expand_tree_igain(node,max_depth,current_depth,columns,parent_igain):\n",
    "\n",
    "    left_tree, right_tree = node['children']\n",
    "    best_attr = node['best_attr']\n",
    "    del(node['children'])\n",
    "    frames = [left_tree,right_tree]\n",
    "    result = pd.concat(frames)\n",
    "    if(result[label].nunique())==1:\n",
    "        node['left_tree'] = node['right_tree'] = list(result[label].unique())[0]\n",
    "        return\n",
    "    \n",
    "    if left_tree.empty or right_tree.empty:     \n",
    "        node['left_tree'] = node['right_tree'] = leaf_nodes(result)[0]\n",
    "        return \n",
    "\n",
    "    if len(columns) ==1 or current_depth>=max_depth:\n",
    "        node['left_tree'] = leaf_nodes(left_tree)[0]\n",
    "        node['right_tree'] = leaf_nodes(right_tree)[0]\n",
    "        return\n",
    "    \n",
    "    columns = columns.drop(best_attr)\n",
    "    node['left_tree'],child_igain = best_attribute_entropy(columns,left_tree,parent_igain) \n",
    "    expand_tree_igain(node['left_tree'],max_depth,current_depth+1,columns,child_igain)\n",
    "\n",
    "    node['right_tree'],child_igain = best_attribute_entropy(columns,right_tree,parent_igain)\n",
    "    expand_tree_igain(node['right_tree'],max_depth,current_depth+1,columns,child_igain)\n",
    "\n"
   ]
  },
  {
   "cell_type": "markdown",
   "metadata": {},
   "source": [
    "Code to build decision tree depending on the selected splitting criteria."
   ]
  },
  {
   "cell_type": "code",
   "execution_count": 42,
   "metadata": {},
   "outputs": [
    {
     "name": "stdout",
     "output_type": "stream",
     "text": [
      "Training decision tree using gini.\n",
      "Training decision tree using igain.\n"
     ]
    }
   ],
   "source": [
    "\n",
    "if method!='gini' and method!='igain' and method!='both':\n",
    "    print (\"Please enter the correct method(gini/igain/both)\")\n",
    "    sys.exit()\n",
    "\n",
    "if method=='gini' or method=='both':\n",
    "    print (\"Training decision tree using gini.\")\n",
    "    root1 = best_attribute(train_data,train_data.columns.drop(label))\n",
    "    expand_tree(root1,depth,1,train_data.columns.drop(label))\n",
    "\n",
    "if method == 'igain' or method == 'both':\n",
    "    print (\"Training decision tree using igain.\")\n",
    "    counts = train_data[label].value_counts()\n",
    "    val = 0.0\n",
    "    root_igain = 0.0\n",
    "    for each in counts:\n",
    "        root_igain += -each/len(train_data) * math.log(float(each)/len(train_data),2.0)\n",
    "    root2,child_gain = best_attribute_entropy(train_data.columns.drop(label),train_data,root_igain)\n",
    "    expand_tree_igain(root2,depth,1,train_data.columns.drop(label),child_gain)\n"
   ]
  },
  {
   "cell_type": "code",
   "execution_count": 43,
   "metadata": {},
   "outputs": [
    {
     "name": "stdout",
     "output_type": "stream",
     "text": [
      "Classification in progress.\n",
      "Accuracy using both :\n",
      "gini: 89.8958\n",
      "igain: 89.375\n"
     ]
    }
   ],
   "source": [
    "gini_count = 0.0\n",
    "igain_count = 0.0\n",
    "print (\"Classification in progress.\")\n",
    "for i in range(0,len(train_data)):\n",
    "    truth = train_data.iloc[i][label]\n",
    "    if method == 'gini' or method == 'both':\n",
    "        prediction1 = classify(root1,train_data.iloc[i])\n",
    "        if prediction1 == truth :\n",
    "            gini_count +=1.0\n",
    "    if method == 'igain' or method == 'both':\n",
    "        prediction2 = classify(root2,train_data.iloc[i])\n",
    "        if prediction2 == truth :\n",
    "            igain_count +=1.0\n",
    "\n",
    "if method == 'gini':\n",
    "    print (\"Accuracy using\", method,\":\",round((gini_count/len(train_data)*100),4))\n",
    "elif method == 'igain':\n",
    "    print (\"Accuracy using\", method,\":\",round((igain_count/len(train_data)*100),4))\n",
    "elif method == 'both':\n",
    "    print (\"Accuracy using\", method,\":\")\n",
    "    print (\"gini:\",round((gini_count/len(train_data)*100),4))\n",
    "    print (\"igain:\",round((igain_count/len(train_data)*100),4))"
   ]
  },
  {
   "cell_type": "code",
   "execution_count": null,
   "metadata": {
    "collapsed": true
   },
   "outputs": [],
   "source": []
  },
  {
   "cell_type": "code",
   "execution_count": null,
   "metadata": {
    "collapsed": true
   },
   "outputs": [],
   "source": []
  }
 ],
 "metadata": {
  "kernelspec": {
   "display_name": "Python 3",
   "language": "python",
   "name": "python3"
  },
  "language_info": {
   "codemirror_mode": {
    "name": "ipython",
    "version": 3
   },
   "file_extension": ".py",
   "mimetype": "text/x-python",
   "name": "python",
   "nbconvert_exporter": "python",
   "pygments_lexer": "ipython3",
   "version": "3.6.3"
  }
 },
 "nbformat": 4,
 "nbformat_minor": 2
}
