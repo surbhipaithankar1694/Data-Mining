{
 "cells": [
  {
   "cell_type": "code",
   "execution_count": 17,
   "metadata": {
    "collapsed": true
   },
   "outputs": [],
   "source": [
    "import pandas as pd\n",
    "import numpy as np\n",
    "import matplotlib.pyplot as plt\n",
    "import random\n",
    "import math\n",
    "import sys\n",
    "%matplotlib inline"
   ]
  },
  {
   "cell_type": "code",
   "execution_count": 18,
   "metadata": {
    "collapsed": true
   },
   "outputs": [],
   "source": [
    "train_data = pd.read_csv('iris.data',header = None)\n"
   ]
  },
  {
   "cell_type": "code",
   "execution_count": 19,
   "metadata": {
    "collapsed": true
   },
   "outputs": [],
   "source": [
    "k = 3\n",
    "distance = 'cityblock'\n",
    "total_dist = 0"
   ]
  },
  {
   "cell_type": "code",
   "execution_count": 20,
   "metadata": {},
   "outputs": [],
   "source": [
    "label = train_data.columns[-1]\n",
    "classes = train_data[label].unique()\n",
    "train_data[\"true code\"] = train_data[label].astype('category')\n",
    "train_data[\"true code\"] = train_data[\"true code\"].cat.codes"
   ]
  },
  {
   "cell_type": "code",
   "execution_count": 21,
   "metadata": {
    "collapsed": true
   },
   "outputs": [],
   "source": [
    "from sklearn.decomposition import PCA\n",
    "x = train_data.drop(['true code',label],axis = 1)"
   ]
  },
  {
   "cell_type": "code",
   "execution_count": 22,
   "metadata": {
    "collapsed": true
   },
   "outputs": [],
   "source": [
    "def euclidean(datapoint,centroid):\n",
    "    global total_dist\n",
    "    final=[]\n",
    "    for i in range(0,len(datapoint)):\n",
    "        arr = []\n",
    "        for k in range(len(centroid)):\n",
    "            total_dist +=1\n",
    "            val= ((math.sqrt(sum(np.square(float(a)-float(b)) for a,b in zip(datapoint.iloc[i],centroid[k])))))\n",
    "            arr.append(val)\n",
    "        final.append(np.argmin(arr))\n",
    "    return final"
   ]
  },
  {
   "cell_type": "code",
   "execution_count": 23,
   "metadata": {
    "collapsed": true
   },
   "outputs": [],
   "source": [
    "def cityblock(datapoint,centroid):\n",
    "    global total_dist\n",
    "    final=[]\n",
    "    for i in range(0,len(datapoint)):\n",
    "        arr = []\n",
    "        for k in range(len(centroid)):\n",
    "            total_dist +=1\n",
    "            val= sum(abs(a-b) for a,b in zip(datapoint.iloc[i],centroid[k]))\n",
    "            arr.append(val)\n",
    "        final.append(np.argmin(arr))\n",
    "    return final"
   ]
  },
  {
   "cell_type": "code",
   "execution_count": 24,
   "metadata": {
    "collapsed": true
   },
   "outputs": [],
   "source": [
    "def cos_distance(datapoint,centroid):\n",
    "    final=[]\n",
    "    global total_dist\n",
    "    for i in range(0,len(datapoint)):\n",
    "        arr = []\n",
    "        for k in range(len(centroid)):\n",
    "                total_dist +=1\n",
    "                additions = 0\n",
    "                len_a = 0\n",
    "                len_b = 0\n",
    "                for a,b in zip(datapoint.iloc[i],centroid[k]):\n",
    "                    dot_prod = a*b\n",
    "                    additions += dot_prod\n",
    "                    len_a += a*a\n",
    "                    len_b += b*b\n",
    "                len_a = np.sqrt(len_a)\n",
    "                len_b = np.sqrt(len_b)\n",
    "                cos = (additions)/((len_a)*(len_b))\n",
    "                arr.append(1-cos)\n",
    "        final.append(np.argmin(arr))\n",
    "    return final"
   ]
  },
  {
   "cell_type": "code",
   "execution_count": 25,
   "metadata": {
    "collapsed": true
   },
   "outputs": [],
   "source": [
    "def equations(datapoint,centroid,type_eq):\n",
    "    final1 = []\n",
    "    final2 = []\n",
    "    global total_dist\n",
    "    for i in range(0,len(datapoint)):\n",
    "        arr1 = []\n",
    "        arr2 = []\n",
    "        for k in range(len(centroid)): \n",
    "            total_dist +=1\n",
    "            sum1 = 0\n",
    "            sum2 = 0\n",
    "            denom = 0\n",
    "            for a,b in zip(datapoint.iloc[i],centroid[k]):\n",
    "                dif = a-b\n",
    "                term1 = max(dif,0)\n",
    "                term2 = max(-dif,0)\n",
    "                sum1+=term1\n",
    "                sum2+=term2\n",
    "                denom += max(abs(a),abs(b),abs(dif))\n",
    "            sum1=sum1*sum1\n",
    "            sum2=sum2*sum2\n",
    "            total = math.sqrt(sum1+sum2)\n",
    "            equ2 = total/denom\n",
    "            arr1.append(total)\n",
    "            arr2.append(equ2)\n",
    "        final1.append(np.argmin(arr1))\n",
    "        final2.append(np.argmin(arr2))\n",
    "    if (type_eq=='equ1'):\n",
    "        return final1\n",
    "    else:\n",
    "        return final2"
   ]
  },
  {
   "cell_type": "code",
   "execution_count": 26,
   "metadata": {
    "collapsed": true,
    "scrolled": false
   },
   "outputs": [],
   "source": [
    "def initial_random_centroids():\n",
    "    columns = train_data.columns.drop(label)\n",
    "    columns = columns.drop('true code')\n",
    "    arrmax = []\n",
    "    arrmin = []\n",
    "    for each in columns:\n",
    "        max = train_data[each].max()\n",
    "        min = train_data[each].min()\n",
    "        arrmax.append(max)\n",
    "        arrmin.append(min)   \n",
    "    initial_centroids = []\n",
    "    for j in range(k):\n",
    "        centroid=[]\n",
    "        for i in range(len(columns)):\n",
    "            centroid.append(np.random.randint(0,round(arrmax[i])))\n",
    "        initial_centroids.append(centroid)\n",
    "    return initial_centroids"
   ]
  },
  {
   "cell_type": "code",
   "execution_count": 27,
   "metadata": {
    "collapsed": true
   },
   "outputs": [],
   "source": [
    "def calc_centroid(data_points):\n",
    "    return np.array(data_points.mean())\n"
   ]
  },
  {
   "cell_type": "code",
   "execution_count": 28,
   "metadata": {
    "collapsed": true
   },
   "outputs": [],
   "source": [
    "def initial_cluster(initial_centroids):\n",
    "    if distance=='euclidean':\n",
    "        train_data['cluster'] = euclidean(train_data.drop([label,'true code'],axis = 1),initial_centroids)\n",
    "    elif distance=='cityblock':\n",
    "        train_data['cluster'] = cityblock(train_data.drop([label,'true code'],axis = 1),initial_centroids)\n",
    "    elif distance=='cos':    \n",
    "        train_data['cluster'] = cos_distance(train_data.drop([label,'true code'],axis = 1),initial_centroids)\n",
    "    elif distance == 'equation1':\n",
    "        train_data['cluster'] = equations(train_data.drop([label,'true code'],axis = 1),initial_centroids,'equ1')\n",
    "    elif distance == 'equation2':\n",
    "        train_data['cluster'] = equations(train_data.drop([label,'true code'],axis = 1),initial_centroids,'equ2')\n",
    "    else:\n",
    "        print('please enter correct distance function: (euclidean/cityblock/cos/equation1/equation2)')\n",
    "        sys.exit(0)        \n",
    "    return initial_centroids"
   ]
  },
  {
   "cell_type": "code",
   "execution_count": 29,
   "metadata": {
    "collapsed": true
   },
   "outputs": [],
   "source": [
    "def find_centroids(train_data):\n",
    "    centroids = []\n",
    "    for i in range(k):\n",
    "        centroids.append(calc_centroid(train_data[train_data[\"cluster\"]==i].drop('cluster',axis = 1)))\n",
    "    return centroids"
   ]
  },
  {
   "cell_type": "code",
   "execution_count": 30,
   "metadata": {
    "collapsed": true,
    "scrolled": true
   },
   "outputs": [],
   "source": [
    "def calc_best_centroid(train_data,centroids):\n",
    "        old_clusters = np.array(train_data[\"cluster\"])\n",
    "        old_centroids = centroids\n",
    "        new_centroids = centroids\n",
    "        iterations = 0\n",
    "        while True:\n",
    "            iterations+=1\n",
    "            if distance=='euclidean':\n",
    "                new_clusters = euclidean(train_data.drop([\"cluster\",'true code'],axis = 1),new_centroids)\n",
    "            elif distance=='cityblock':\n",
    "                new_clusters = cityblock(train_data.drop([\"cluster\",'true code'],axis = 1),new_centroids)\n",
    "            elif distance=='cos':\n",
    "                new_clusters = cos_distance(train_data.drop([\"cluster\",'true code'],axis = 1),new_centroids)\n",
    "            elif distance == 'equation1':\n",
    "                new_clusters = equations(train_data.drop([\"cluster\",'true code'],axis = 1),new_centroids,'equ1')\n",
    "            elif distance == 'equation2':\n",
    "                new_clusters = equations(train_data.drop([\"cluster\",'true code'],axis = 1),new_centroids,'equ2')\n",
    "            else:\n",
    "                print('please enter correct distance function: (euclidean/cityblock/cos/equation1/equation2)')\n",
    "                sys.exit(0)\n",
    "            train_data['cluster'] = new_clusters \n",
    "            new_centroids = find_centroids(train_data.drop(['true code'],axis = 1))\n",
    "            if np.array_equal(old_centroids,new_centroids):\n",
    "                break\n",
    "            else:\n",
    "                old_centroids = new_centroids\n",
    "                old_clusters = new_clusters\n",
    "            #print (\"total\",total)\n",
    "        sum_sq_errors = calc_sse(new_clusters,new_centroids)\n",
    "        return new_clusters,new_centroids,iterations,sum_sq_errors\n",
    "    \n",
    "\n"
   ]
  },
  {
   "cell_type": "code",
   "execution_count": 31,
   "metadata": {
    "collapsed": true
   },
   "outputs": [],
   "source": [
    "def calc_sse(y,centroids):\n",
    "    sum = 0.0\n",
    "    for i in range(k):\n",
    "        for j in range(len(y)):\n",
    "            if y[j] == i:\n",
    "                diff = np.array(x.loc[j])-centroids[i]\n",
    "                distance = np.linalg.norm(diff)\n",
    "                sum += distance*distance\n",
    "    return sum"
   ]
  },
  {
   "cell_type": "code",
   "execution_count": 32,
   "metadata": {
    "scrolled": false
   },
   "outputs": [
    {
     "name": "stdout",
     "output_type": "stream",
     "text": [
      "Final Cluster for data-points [2, 1, 1, 1, 2, 2, 2, 2, 1, 1, 2, 1, 1, 1, 2, 2, 2, 2, 2, 2, 2, 2, 2, 2, 1, 1, 2, 2, 2, 1, 1, 2, 2, 2, 1, 2, 2, 1, 1, 2, 2, 1, 1, 2, 2, 1, 2, 1, 2, 2, 0, 0, 0, 0, 0, 0, 0, 1, 0, 0, 1, 0, 0, 0, 0, 0, 0, 0, 0, 0, 0, 0, 0, 0, 0, 0, 0, 0, 0, 0, 0, 0, 0, 0, 0, 0, 0, 0, 0, 0, 0, 0, 0, 1, 0, 0, 0, 0, 1, 0, 0, 0, 0, 0, 0, 0, 0, 0, 0, 0, 0, 0, 0, 0, 0, 0, 0, 0, 0, 0, 0, 0, 0, 0, 0, 0, 0, 0, 0, 0, 0, 0, 0, 0, 0, 0, 0, 0, 0, 0, 0, 0, 0, 0, 0, 0, 0, 0, 0, 0]\n",
      "Total Iteration: 6\n",
      "Total Distance calculations: 2700\n",
      "Sum of Squared errors: 142.928508941\n"
     ]
    },
    {
     "data": {
      "image/png": "[encoded data removed]",
      "text/plain": [
       "<matplotlib.figure.Figure at 0x1a733d12b00>"
      ]
     },
     "metadata": {},
     "output_type": "display_data"
    }
   ],
   "source": [
    "iterations = 0\n",
    "sum_sq_errors = 0\n",
    "while True:\n",
    "    initial_centroids = initial_random_centroids()\n",
    "    initial_cluster(initial_centroids)\n",
    "    centroids = find_centroids(train_data.drop(['true code',label],axis = 1))\n",
    "    if not(np.isnan(centroids).any()):\n",
    "        break\n",
    "    else:\n",
    "        train_data = train_data.drop('cluster', axis = 1)\n",
    "        \n",
    "total_dist = 0\n",
    "\n",
    "y,final_centroids,iterations,sum_sq_errors = calc_best_centroid(train_data.drop(label,axis = 1),centroids)\n",
    "#y = train_data['true code']\n",
    "\n",
    "print ('Final Cluster for data-points',y)\n",
    "print ('Total Iteration:',iterations)\n",
    "print ('Total Distance calculations:',total_dist)\n",
    "print ('Sum of Squared errors:',sum_sq_errors)\n",
    "\n",
    "pca = PCA(n_components=2).fit(x)\n",
    "pca_2d = pca.transform(x)\n",
    "import pylab as pl\n",
    "for i in range(0, pca_2d.shape[0]):\n",
    "    if y[i] == 0:\n",
    "       c1 = pl.scatter(pca_2d[i,0],pca_2d[i,1],c='cyan',marker='+')\n",
    "    elif y[i] == 1:\n",
    "       c2 = pl.scatter(pca_2d[i,0],pca_2d[i,1],c='r',marker='o')\n",
    "    elif y[i] == 2:\n",
    "       c3 = pl.scatter(pca_2d[i,0],pca_2d[i,1],c='g',marker='*')\n",
    "    elif y[i] == 3:\n",
    "       c4 = pl.scatter(pca_2d[i,0],pca_2d[i,1],c='b',marker='*')\n",
    "    elif y[i] == 4:\n",
    "       c5 = pl.scatter(pca_2d[i,0],pca_2d[i,1],c='y',marker='*')\n",
    "    elif y[i] == 5:\n",
    "       c6 = pl.scatter(pca_2d[i,0],pca_2d[i,1],c='pink',marker='o')\n",
    "    elif y[i] == 6:\n",
    "       c7 = pl.scatter(pca_2d[i,0],pca_2d[i,1],c='black',marker='*')\n",
    "    elif y[i] == 7:\n",
    "       c8 = pl.scatter(pca_2d[i,0],pca_2d[i,1],c='y',marker='o')\n",
    "    elif y[i] == 8:\n",
    "       c9 = pl.scatter(pca_2d[i,0],pca_2d[i,1],c='purple',marker='*')\n",
    "    elif y[i] == 9:\n",
    "       c10 = pl.scatter(pca_2d[i,0],pca_2d[i,1],c='cyan',marker='*')\n",
    "#pl.title('Original Glass Data set')    \n",
    "pl.title('Clustering Analysis using CITYBLOCK distance Function k = 6')\n",
    "pl.show()"
   ]
  },
  {
   "cell_type": "code",
   "execution_count": null,
   "metadata": {
    "collapsed": true
   },
   "outputs": [],
   "source": []
  }
 ],
 "metadata": {
  "kernelspec": {
   "display_name": "Python 3",
   "language": "python",
   "name": "python3"
  },
  "language_info": {
   "codemirror_mode": {
    "name": "ipython",
    "version": 3
   },
   "file_extension": ".py",
   "mimetype": "text/x-python",
   "name": "python",
   "nbconvert_exporter": "python",
   "pygments_lexer": "ipython3",
   "version": "3.6.3"
  }
 },
 "nbformat": 4,
 "nbformat_minor": 2
}
